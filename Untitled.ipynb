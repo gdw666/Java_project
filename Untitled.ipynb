{
 "cells": [
  {
   "cell_type": "code",
   "execution_count": 1,
   "id": "0fd0f134",
   "metadata": {},
   "outputs": [],
   "source": [
    "import requests\n",
    "from selenium import webdriver\n",
    "from selenium.webdriver.common.by import By\n",
    "from selenium.webdriver.chrome.service import Service\n",
    "from webdriver_manager.chrome import ChromeDriverManager\n",
    "from selenium.webdriver.chrome.options import Options\n",
    "import time\n",
    "from threading import Thread\n",
    "import traceback"
   ]
  },
  {
   "cell_type": "code",
   "execution_count": 2,
   "id": "670ff27a",
   "metadata": {},
   "outputs": [],
   "source": [
    "def get_proxy():\n",
    "    return requests.get(\"http://127.0.0.1:5010/get\").json()\n",
    "\n",
    "def delete_proxy(proxy):\n",
    "    requests.get(\"http://127.0.0.1:5010/delete/?proxy={}\".format(proxy))\n",
    "    \n",
    "def change_time_type(str_time):\n",
    "    m, s = str_time.split(':')\n",
    "    return int(m) * 60 + int(s)"
   ]
  },
  {
   "cell_type": "code",
   "execution_count": 3,
   "id": "e8cc5083",
   "metadata": {},
   "outputs": [
    {
     "data": {
      "text/plain": [
       "{'anonymous': '',\n",
       " 'check_count': 14,\n",
       " 'fail_count': 0,\n",
       " 'https': False,\n",
       " 'last_status': True,\n",
       " 'last_time': '2022-10-18 14:22:07',\n",
       " 'proxy': '112.49.34.128:9091',\n",
       " 'region': '',\n",
       " 'source': 'freeProxy03'}"
      ]
     },
     "execution_count": 3,
     "metadata": {},
     "output_type": "execute_result"
    }
   ],
   "source": [
    "get_proxy()"
   ]
  },
  {
   "cell_type": "code",
   "execution_count": 10,
   "id": "0c72a709",
   "metadata": {},
   "outputs": [],
   "source": [
    "# your spider code\n",
    "\n",
    "def play_one(url):\n",
    "    # ....\n",
    "    retry_count = 5\n",
    "    proxy = get_proxy().get(\"proxy\")\n",
    "    print(\"current proxy:\" + proxy)\n",
    "    delete_proxy(proxy)                 # 立刻删除代理池中代理，以后要优化可以改成使用队列，保证多线程安全\n",
    "    \n",
    "    while retry_count > 0:\n",
    "        try:\n",
    "            # set proxy\n",
    "            options = Options()\n",
    "            options.add_argument(f\"-proxy-server=http：//{proxy}\")\n",
    "            options.add_argument('--no-sandbox')\n",
    "            driver = webdriver.Chrome(service=Service(ChromeDriverManager().install()), options=options)\n",
    "            driver.get(url)\n",
    "\n",
    "            time.sleep(5)\n",
    "\n",
    "            # get video time\n",
    "            video_time = driver.find_element(by=By.CLASS_NAME, value=\"bpx-player-ctrl-time-duration\").get_attribute(\"textContent\")\n",
    "            print(video_time)\n",
    "            total_second = change_time_type(video_time)\n",
    "            print(\"current video total second:\", total_second)\n",
    "\n",
    "            # click to play video\n",
    "            # element = driver.find_element(By.XPATH, \"//button[@class='bilibili-player-iconfont bilibili-player-iconfont-start']\")\n",
    "            # webdriver.ActionChains(driver).move_to_element(element).click(element).perform()\n",
    "\n",
    "            driver.minimize_window()\n",
    "\n",
    "            time.sleep(total_second + 5)\n",
    "            return\n",
    "        \n",
    "        except Exception as e:\n",
    "            traceback.print_exc()\n",
    "            retry_count -= 1\n",
    "        finally:\n",
    "            # 关闭页面\n",
    "            driver.close()\n",
    "\n",
    "    return None"
   ]
  },
  {
   "cell_type": "code",
   "execution_count": 5,
   "id": "b2e0dbb8",
   "metadata": {},
   "outputs": [],
   "source": [
    "def always_play(url):\n",
    "    while True:\n",
    "        play_one(url)"
   ]
  },
  {
   "cell_type": "code",
   "execution_count": 11,
   "id": "02719777",
   "metadata": {
    "scrolled": false
   },
   "outputs": [
    {
     "name": "stdout",
     "output_type": "stream",
     "text": [
      "current proxy:47.107.127.226:8080\n",
      "02:43\n",
      "current video total second: 163\n"
     ]
    }
   ],
   "source": [
    "play_one('https://www.bilibili.com/video/BV11K411S7TP')"
   ]
  },
  {
   "cell_type": "code",
   "execution_count": 27,
   "id": "8641c864",
   "metadata": {
    "scrolled": true
   },
   "outputs": [
    {
     "name": "stderr",
     "output_type": "stream",
     "text": [
      "Traceback (most recent call last):\n",
      "  File \"C:\\Users\\GuanDongwei\\AppData\\Local\\Temp\\ipykernel_8540\\3288071144.py\", line 23, in play_one\n",
      "    driver = webdriver.Chrome(service=Service(ChromeDriverManager().install()), options=options)\n",
      "TypeError: __init__() got an unexpected keyword argument 'service'\n",
      "Exception in thread Thread-10:\n",
      "Traceback (most recent call last):\n",
      "  File \"D:\\sofware\\Anaconda3\\lib\\threading.py\", line 973, in _bootstrap_inner\n",
      "    self.run()\n",
      "  File \"D:\\sofware\\Anaconda3\\lib\\threading.py\", line 910, in run\n",
      "    self._target(*self._args, **self._kwargs)\n",
      "  File \"C:\\Users\\GuanDongwei\\AppData\\Local\\Temp\\ipykernel_8540\\1460976841.py\", line 3, in always_play\n",
      "  File \"C:\\Users\\GuanDongwei\\AppData\\Local\\Temp\\ipykernel_8540\\3288071144.py\", line 64, in play_one\n",
      "UnboundLocalError: local variable 'driver' referenced before assignment\n",
      "Traceback (most recent call last):\n",
      "  File \"C:\\Users\\GuanDongwei\\AppData\\Local\\Temp\\ipykernel_8540\\3288071144.py\", line 23, in play_one\n",
      "    driver = webdriver.Chrome(service=Service(ChromeDriverManager().install()), options=options)\n",
      "TypeError: __init__() got an unexpected keyword argument 'service'\n",
      "Exception in thread Thread-11:\n",
      "Traceback (most recent call last):\n",
      "  File \"D:\\sofware\\Anaconda3\\lib\\threading.py\", line 973, in _bootstrap_inner\n",
      "    self.run()\n",
      "  File \"D:\\sofware\\Anaconda3\\lib\\threading.py\", line 910, in run\n",
      "    self._target(*self._args, **self._kwargs)\n",
      "  File \"C:\\Users\\GuanDongwei\\AppData\\Local\\Temp\\ipykernel_8540\\1460976841.py\", line 3, in always_play\n",
      "  File \"C:\\Users\\GuanDongwei\\AppData\\Local\\Temp\\ipykernel_8540\\3288071144.py\", line 64, in play_one\n",
      "UnboundLocalError: local variable 'driver' referenced before assignment\n",
      "Traceback (most recent call last):\n",
      "  File \"C:\\Users\\GuanDongwei\\AppData\\Local\\Temp\\ipykernel_8540\\3288071144.py\", line 23, in play_one\n",
      "    driver = webdriver.Chrome(service=Service(ChromeDriverManager().install()), options=options)\n",
      "TypeError: __init__() got an unexpected keyword argument 'service'\n",
      "Exception in thread Thread-12:\n",
      "Traceback (most recent call last):\n",
      "  File \"D:\\sofware\\Anaconda3\\lib\\threading.py\", line 973, in _bootstrap_inner\n",
      "    self.run()\n",
      "  File \"D:\\sofware\\Anaconda3\\lib\\threading.py\", line 910, in run\n",
      "    self._target(*self._args, **self._kwargs)\n",
      "  File \"C:\\Users\\GuanDongwei\\AppData\\Local\\Temp\\ipykernel_8540\\1460976841.py\", line 3, in always_play\n",
      "  File \"C:\\Users\\GuanDongwei\\AppData\\Local\\Temp\\ipykernel_8540\\3288071144.py\", line 64, in play_one\n",
      "UnboundLocalError: local variable 'driver' referenced before assignment\n",
      "Traceback (most recent call last):\n",
      "  File \"C:\\Users\\GuanDongwei\\AppData\\Local\\Temp\\ipykernel_8540\\3288071144.py\", line 23, in play_one\n",
      "    driver = webdriver.Chrome(service=Service(ChromeDriverManager().install()), options=options)\n",
      "TypeError: __init__() got an unexpected keyword argument 'service'\n",
      "Exception in thread Thread-13:\n",
      "Traceback (most recent call last):\n",
      "  File \"D:\\sofware\\Anaconda3\\lib\\threading.py\", line 973, in _bootstrap_inner\n",
      "    self.run()\n",
      "  File \"D:\\sofware\\Anaconda3\\lib\\threading.py\", line 910, in run\n",
      "    self._target(*self._args, **self._kwargs)\n",
      "  File \"C:\\Users\\GuanDongwei\\AppData\\Local\\Temp\\ipykernel_8540\\1460976841.py\", line 3, in always_play\n",
      "  File \"C:\\Users\\GuanDongwei\\AppData\\Local\\Temp\\ipykernel_8540\\3288071144.py\", line 64, in play_one\n",
      "UnboundLocalError: local variable 'driver' referenced before assignment\n",
      "Traceback (most recent call last):\n",
      "  File \"C:\\Users\\GuanDongwei\\AppData\\Local\\Temp\\ipykernel_8540\\3288071144.py\", line 23, in play_one\n",
      "    driver = webdriver.Chrome(service=Service(ChromeDriverManager().install()), options=options)\n",
      "TypeError: __init__() got an unexpected keyword argument 'service'\n",
      "Exception in thread Thread-14:\n",
      "Traceback (most recent call last):\n",
      "  File \"D:\\sofware\\Anaconda3\\lib\\threading.py\", line 973, in _bootstrap_inner\n",
      "    self.run()\n",
      "  File \"D:\\sofware\\Anaconda3\\lib\\threading.py\", line 910, in run\n",
      "    self._target(*self._args, **self._kwargs)\n",
      "  File \"C:\\Users\\GuanDongwei\\AppData\\Local\\Temp\\ipykernel_8540\\1460976841.py\", line 3, in always_play\n",
      "  File \"C:\\Users\\GuanDongwei\\AppData\\Local\\Temp\\ipykernel_8540\\3288071144.py\", line 64, in play_one\n",
      "UnboundLocalError: local variable 'driver' referenced before assignment\n"
     ]
    },
    {
     "data": {
      "text/plain": [
       "'\\nfor t in thread_list:\\n    t.join()\\n'"
      ]
     },
     "execution_count": 27,
     "metadata": {},
     "output_type": "execute_result"
    }
   ],
   "source": [
    "thread = 5   # 5个线程\n",
    "url = 'https://www.bilibili.com/video/BV11K411S7TP'\n",
    "\n",
    "thread_list = [Thread(target=always_play, args=(url,)) for _ in range(thread)]\n",
    "for t in thread_list:\n",
    "    t.start()\n",
    "    time.sleep(12)\n",
    "\n",
    "'''\n",
    "for t in thread_list:\n",
    "    t.join()\n",
    "'''"
   ]
  },
  {
   "cell_type": "code",
   "execution_count": null,
   "id": "31563624",
   "metadata": {},
   "outputs": [],
   "source": []
  }
 ],
 "metadata": {
  "kernelspec": {
   "display_name": "Python 3 (ipykernel)",
   "language": "python",
   "name": "python3"
  },
  "language_info": {
   "codemirror_mode": {
    "name": "ipython",
    "version": 3
   },
   "file_extension": ".py",
   "mimetype": "text/x-python",
   "name": "python",
   "nbconvert_exporter": "python",
   "pygments_lexer": "ipython3",
   "version": "3.9.12"
  }
 },
 "nbformat": 4,
 "nbformat_minor": 5
}
